{
 "cells": [
  {
   "cell_type": "code",
   "execution_count": 2,
   "metadata": {},
   "outputs": [
    {
     "name": "stdout",
     "output_type": "stream",
     "text": [
      "Rest Of India : 705\n",
      "NCR : 7947\n"
     ]
    },
    {
     "data": {
      "image/png": "[encoded data removed]",
      "text/plain": [
       "<Figure size 432x288 with 1 Axes>"
      ]
     },
     "metadata": {
      "needs_background": "light"
     },
     "output_type": "display_data"
    }
   ],
   "source": [
    "# 1.1 Plot the bar graph of number of restaurants present in Delhi NCR vs Rest of India.\n",
    "# In this question we have to find the number of restaurant present in Delhi-NCR and rest of India\n",
    "\n",
    "# First we will import all libraries used for this question \n",
    "import pandas as pd\n",
    "import matplotlib.pyplot as plt\n",
    "a=pd.read_csv(\"Downloads/zomato.csv\",encoding='ISO-8859-1')\n",
    "df=a.copy()\n",
    "df.columns=['res_id','res_name','code','city','address','locality','loc_verb','longitude','latitude','cuisines','avg_cost',\n",
    "           'currency','has_table','online','is_delivering','switch_to','price_range','agg_rating','rating_color','rating_text',\n",
    "           'votes']\n",
    "# for easiness I change all the column names according to it and for country India the code will be 1 and put that\n",
    "# data in c\n",
    "c=df[df.code==1]\n",
    "ncr=0\n",
    "total=0\n",
    "for j in c.city:\n",
    "    if j==\"Delhi\" or j=='New Delhi' or j== 'Ghaziabad' or j=='Noida' or j=='Gurgaon' or j=='Faridabad':\n",
    "        ncr+=1\n",
    "    total+=1\n",
    "print(\"Rest Of India\",\":\",total-ncr)\n",
    "print(\"NCR\",\":\",ncr)\n",
    "xaxis=['NCR','ROI']\n",
    "yaxis=[ncr,total-ncr]\n",
    "plt.bar(xaxis,yaxis)\n",
    "plt.title(\"Number Of Restaurants\")\n",
    "plt.xlabel(\"Region\")\n",
    "plt.ylabel(\"Number\")\n",
    "plt.show()"
   ]
  },
  {
   "cell_type": "code",
   "execution_count": null,
   "metadata": {},
   "outputs": [],
   "source": []
  }
 ],
 "metadata": {
  "kernelspec": {
   "display_name": "Python 3",
   "language": "python",
   "name": "python3"
  },
  "language_info": {
   "codemirror_mode": {
    "name": "ipython",
    "version": 3
   },
   "file_extension": ".py",
   "mimetype": "text/x-python",
   "name": "python",
   "nbconvert_exporter": "python",
   "pygments_lexer": "ipython3",
   "version": "3.7.4"
  }
 },
 "nbformat": 4,
 "nbformat_minor": 2
}
