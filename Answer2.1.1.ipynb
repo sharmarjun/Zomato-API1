{
 "cells": [
  {
   "cell_type": "code",
   "execution_count": 1,
   "metadata": {},
   "outputs": [
    {
     "data": {
      "text/plain": [
       "<Figure size 640x480 with 1 Axes>"
      ]
     },
     "metadata": {},
     "output_type": "display_data"
    }
   ],
   "source": [
    "#2.1.1\n",
    "# User Rating of a restaurant plays a crucial role in selecting a restaurant or ordering the food from the restaurant.\n",
    "# Write a short detail analysis of how the rating is affected by restaurant due following features: Plot a suitable \n",
    "# graph to explain yourinference.Number of Votes given Restaurant\n",
    "# In this question we have to find how Number of votes affects the rating of the restaurant.\n",
    "# for this we have to make a suitable graph to show this\n",
    "import pandas as pd\n",
    "import matplotlib.pyplot as plt\n",
    "import numpy as np\n",
    "\n",
    "zomato = pd.read_csv(\"Downloads/zomato.csv\",encoding = \"ISO-8859-1\")\n",
    "df = zomato.copy()\n",
    "rating = df[\"Aggregate rating\"]\n",
    "votes = df[\"Votes\"]\n",
    "votes = np.array(votes)\n",
    "\n",
    "plt.scatter(rating,votes,c=votes)\n",
    "plt.title(\"Rating Vs Votes of Restaurants\")\n",
    "plt.ylabel(\"Votes\")\n",
    "plt.xlabel(\"Ratings\")\n",
    "plt.grid()\n",
    "plt.show()\n",
    "\n"
   ]
  },
  {
   "cell_type": "code",
   "execution_count": null,
   "metadata": {},
   "outputs": [],
   "source": []
  }
 ],
 "metadata": {
  "kernelspec": {
   "display_name": "Python 3",
   "language": "python",
   "name": "python3"
  },
  "language_info": {
   "codemirror_mode": {
    "name": "ipython",
    "version": 3
   },
   "file_extension": ".py",
   "mimetype": "text/x-python",
   "name": "python",
   "nbconvert_exporter": "python",
   "pygments_lexer": "ipython3",
   "version": "3.7.4"
  }
 },
 "nbformat": 4,
 "nbformat_minor": 2
}
