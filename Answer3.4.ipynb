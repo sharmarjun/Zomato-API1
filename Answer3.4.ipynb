{
 "cells": [
  {
   "cell_type": "code",
   "execution_count": null,
   "metadata": {},
   "outputs": [],
   "source": [
    "# 3.4 Plot the pie graph of top 10 cuisines present in restaurants in the USA.\n",
    "# In this question we have to first import all libraries used for this question\n",
    "import pandas as pd\n",
    "import matplotlib.pyplot as plt\n",
    "a=a=pd.read_csv(\"Downloads/zomato.csv\",encoding='ISO-8859-1')\n",
    "df=a.copy()\n",
    "\n",
    "df.columns=['res_id','res_name','code','city','address','locality','loc_verb','longitude','latitude','cuisines','avg_cost',\n",
    "           'currency','has_table','online','is_delivering','switch_to','price_range','agg_rating','rating_color','rating_text',\n",
    "           'votes']\n",
    "df2=df.copy()\n",
    "cuis=df2[df2.code==216]\n",
    "# For USA the country code should be 216 and store the value in dictionary d. \n",
    "d={}\n",
    "for ele in cuis.cuisines:\n",
    "    p=str(ele)\n",
    "    q=p.split(\",\")\n",
    "    for e in q:\n",
    "        e=e.strip()\n",
    "        if e in d:\n",
    "            d[e]+=1\n",
    "        else:\n",
    "            d[e]=1\n",
    "# Now we have to find the top 10 cuisines for USA \n",
    "cuisine=[]\n",
    "number=[]\n",
    "for i in range(10):\n",
    "    ans=''\n",
    "    max=0\n",
    "    for j in d:\n",
    "        if d[j]>max:\n",
    "            max=d[j]\n",
    "            ans=j\n",
    "    print(ans,max)\n",
    "    cuisine.append(ans)\n",
    "    number.append(max)\n",
    "    del d[ans]\n",
    "# Now we make a graph for the same\n",
    "plt.pie(number,labels=cuisine,autopct=\"%.2f\")\n",
    "plt.show()"
   ]
  },
  {
   "cell_type": "code",
   "execution_count": null,
   "metadata": {},
   "outputs": [],
   "source": []
  }
 ],
 "metadata": {
  "kernelspec": {
   "display_name": "Python 3",
   "language": "python",
   "name": "python3"
  },
  "language_info": {
   "codemirror_mode": {
    "name": "ipython",
    "version": 3
   },
   "file_extension": ".py",
   "mimetype": "text/x-python",
   "name": "python",
   "nbconvert_exporter": "python",
   "pygments_lexer": "ipython3",
   "version": "3.7.4"
  }
 },
 "nbformat": 4,
 "nbformat_minor": 2
}
