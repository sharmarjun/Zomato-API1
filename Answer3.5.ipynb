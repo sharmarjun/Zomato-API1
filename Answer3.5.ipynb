{
 "cells": [
  {
   "cell_type": "code",
   "execution_count": null,
   "metadata": {},
   "outputs": [],
   "source": [
    "# 3.5\n",
    "# In this question we have to Plot the bubble graph of a number of Restaurants present in the city of India and keeping \n",
    "# the weighted restaurant rating of the city in a bubble\n",
    "import pandas as pd\n",
    "import matplotlib.pyplot as plt\n",
    "\n",
    "zomato = pd.read_csv(\"Downloads/zomato.csv\",encoding=\"ISO-8859-1\")\n",
    "df = zomato.copy()\n",
    "df.columns=['res_id','res_name','code','city','address','locality','loc_verb','longitude','latitude','cuisines','avg_cost',\n",
    "           'currency','has_table','online','is_delivering','switch_to','price_range','agg_rating','rating_color','rating_text',\n",
    "           'votes']\n",
    "df = df[df[\"code\"] == 1] # for country India\n",
    "df[\"Weighted Rating\"] = df[\"votes\"] * df[\"agg_rating\"] #  weighted value column\n",
    "ans = df.groupby(\"city\")[\"Weighted Rating\"].sum() # grouping city with weighted rating column\n",
    "num = df.groupby(\"city\")[\"votes\"].sum()  # grouping city with sum of votes\n",
    "res = df[\"city\"].value_counts().sort_index()\n",
    "resv = res.values\n",
    "cities = ans.index\n",
    "ansval = ans.values\n",
    "numval = num.values\n",
    "city = []\n",
    "weighted = []\n",
    "for i in range(len(ansval)):\n",
    "    city.append(cities[i])\n",
    "    weighted.append(ansval[i]/numval[i])\n",
    "plt.scatter(city,resv,s=weighted)\n",
    "plt.title(\"Bubble Graph of Weighted Rating of Restaurants\")\n",
    "plt.xticks(rotation=90)\n",
    "plt.xlabel(\"City Names\")\n",
    "plt.ylabel(\"Number of Resturants\")\n",
    "plt.show()"
   ]
  },
  {
   "cell_type": "code",
   "execution_count": null,
   "metadata": {},
   "outputs": [],
   "source": []
  }
 ],
 "metadata": {
  "kernelspec": {
   "display_name": "Python 3",
   "language": "python",
   "name": "python3"
  },
  "language_info": {
   "codemirror_mode": {
    "name": "ipython",
    "version": 3
   },
   "file_extension": ".py",
   "mimetype": "text/x-python",
   "name": "python",
   "nbconvert_exporter": "python",
   "pygments_lexer": "ipython3",
   "version": "3.7.4"
  }
 },
 "nbformat": 4,
 "nbformat_minor": 2
}
